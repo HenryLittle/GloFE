{
 "cells": [
  {
   "cell_type": "code",
   "execution_count": 1,
   "metadata": {},
   "outputs": [],
   "source": [
    "import torch\n",
    "from torch import nn\n",
    "import torch.nn.functional as F\n",
    "import numpy as np"
   ]
  },
  {
   "cell_type": "code",
   "execution_count": 51,
   "metadata": {},
   "outputs": [],
   "source": [
    "class TCLoss(nn.Module):\n",
    "\n",
    "    def __init__(self, N, window_size):\n",
    "        super(TCLoss, self).__init__()\n",
    "        self.n_sample = N\n",
    "        self.window_size = window_size\n",
    "    \n",
    "    def _sample_anchors(self, B, L):\n",
    "\n",
    "        segment_length = L // self.n_sample\n",
    "\n",
    "        anchors = np.arange(0, self.n_sample) * segment_length\n",
    "        anchor_offsets = np.random.randint(0, segment_length, (B, self.n_sample))\n",
    "\n",
    "        anchors = anchors[None, :] + anchor_offsets\n",
    "        return anchors\n",
    "\n",
    "    def _sample_positive(self, anchors, L):\n",
    "\n",
    "        half_window = self.window_size // 2\n",
    "\n",
    "        offset_choices = [x for x in range(1, half_window + 1)] + [-x for x in range(1, half_window + 1)] \n",
    "        pos_offsets = np.random.choice(offset_choices, (anchors.shape[0], anchors.shape[1]))\n",
    "\n",
    "        positive = np.clip(anchors + pos_offsets, 0, L-1)\n",
    "\n",
    "        return positive\n",
    "    \n",
    "    @staticmethod\n",
    "    def sim_matrix(a, b, eps=1e-12):\n",
    "        a_norm = F.normalize(a, dim = -1)\n",
    "        b_norm = F.normalize(b, dim = -1)\n",
    "        sim_mt = torch.matmul(a_norm, b_norm.transpose(-2, -1))\n",
    "        return sim_mt\n",
    "\n",
    "    def forward(self, feats):\n",
    "        B, L, C = feats.shape\n",
    "        # [B N]\n",
    "        anchors = self._sample_anchors(B, L)\n",
    "        positive = self._sample_positive(anchors, L)\n",
    "        \n",
    "        anchor_feats = feats[torch.arange(B).unsqueeze(-1), anchors]\n",
    "        positive_feats = feats[torch.arange(B).unsqueeze(-1), positive]\n",
    "\n",
    "        sim = self.sim_matrix(anchor_feats, positive_feats)\n",
    "\n",
    "        label = torch.arange(self.n_sample, device=sim.device).unsqueeze(0).repeat(B, 1)\n",
    "        loss = F.cross_entropy(sim, label)\n",
    "        return loss"
   ]
  },
  {
   "cell_type": "code",
   "execution_count": 45,
   "metadata": {},
   "outputs": [],
   "source": [
    "feats = torch.randn((1, 64, 128))"
   ]
  },
  {
   "cell_type": "code",
   "execution_count": 11,
   "metadata": {},
   "outputs": [],
   "source": [
    "# loss = TCLoss(N = 8, window_size = 8)\n",
    "# B, L, C = feats.shape\n",
    "# anchors = loss._sample_anchors(B, L)\n",
    "# anchor_feats = feats[torch.arange(B).unsqueeze(-1), anchors]\n",
    "# positive = loss._sample_positive(anchors, L)\n",
    "# positive_feats = feats[torch.arange(B).unsqueeze(-1), positive]"
   ]
  },
  {
   "cell_type": "code",
   "execution_count": 52,
   "metadata": {},
   "outputs": [
    {
     "data": {
      "text/plain": [
       "tensor(2.1191)"
      ]
     },
     "execution_count": 52,
     "metadata": {},
     "output_type": "execute_result"
    }
   ],
   "source": [
    "loss = TCLoss(N = 8, window_size = 8)\n",
    "loss(feats)"
   ]
  },
  {
   "cell_type": "code",
   "execution_count": 48,
   "metadata": {},
   "outputs": [
    {
     "data": {
      "text/plain": [
       "tensor(2.7978)"
      ]
     },
     "execution_count": 48,
     "metadata": {},
     "output_type": "execute_result"
    }
   ],
   "source": [
    "loss = TCLoss(N = 16, window_size = 8)\n",
    "loss(feats)"
   ]
  },
  {
   "cell_type": "code",
   "execution_count": null,
   "metadata": {},
   "outputs": [],
   "source": []
  }
 ],
 "metadata": {
  "interpreter": {
   "hash": "1a5ee8f268a58a1501ad7aef09cde53105f57cea18e29cd62af7d0e62261f331"
  },
  "kernelspec": {
   "display_name": "Python 3",
   "language": "python",
   "name": "python3"
  },
  "language_info": {
   "codemirror_mode": {
    "name": "ipython",
    "version": 3
   },
   "file_extension": ".py",
   "mimetype": "text/x-python",
   "name": "python",
   "nbconvert_exporter": "python",
   "pygments_lexer": "ipython3",
   "version": "3.6.15"
  }
 },
 "nbformat": 4,
 "nbformat_minor": 4
}
