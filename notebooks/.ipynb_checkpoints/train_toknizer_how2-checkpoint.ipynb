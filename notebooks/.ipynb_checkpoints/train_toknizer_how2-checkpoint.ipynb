{
 "cells": [
  {
   "cell_type": "code",
   "execution_count": 1,
   "metadata": {},
   "outputs": [
    {
     "name": "stdout",
     "output_type": "stream",
     "text": [
      "Now of it is life threatening or or or horrifying at all.\n"
     ]
    },
    {
     "data": {
      "text/plain": [
       "('how2sign/how2sign-bpe25000-tokenizer-uncased/tokenizer_config.json',\n",
       " 'how2sign/how2sign-bpe25000-tokenizer-uncased/special_tokens_map.json',\n",
       " 'how2sign/how2sign-bpe25000-tokenizer-uncased/tokenizer.json')"
      ]
     },
     "execution_count": 1,
     "metadata": {},
     "output_type": "execute_result"
    }
   ],
   "source": [
    "import pandas as pd\n",
    "from tokenizers import (\n",
    "    decoders,\n",
    "    models,\n",
    "    normalizers,\n",
    "    pre_tokenizers,\n",
    "    processors,\n",
    "    trainers,\n",
    "    Tokenizer\n",
    ")\n",
    "from transformers import PreTrainedTokenizerFast\n",
    "\n",
    "content = pd.read_csv('/mnt/workspace/How2Sign/how2sign_realigned_train.csv', sep='\\t')\n",
    "translation = content['SENTENCE'].to_list()\n",
    "print(translation[5667])\n",
    "tokenizer = Tokenizer(models.BPE())\n",
    "tokenizer.normalizer = normalizers.Sequence(\n",
    "    [normalizers.NFD(), normalizers.Lowercase(), normalizers.StripAccents()]\n",
    ")\n",
    "tokenizer.pre_tokenizer = pre_tokenizers.ByteLevel(add_prefix_space=False)\n",
    "trainer = trainers.BpeTrainer(vocab_size=25000, special_tokens=[\"<s>\", \"<pad>\", \"</s>\"])\n",
    "tokenizer.train_from_iterator(translation, trainer=trainer)\n",
    "tokenizer.post_processor = processors.ByteLevel(trim_offsets=False)\n",
    "tokenizer.decoder = decoders.ByteLevel()\n",
    "\n",
    "wrapped_tokenizer = PreTrainedTokenizerFast(\n",
    "    tokenizer_object=tokenizer,\n",
    "    model_max_length=1024,\n",
    "    bos_token=\"<s>\",\n",
    "    eos_token=\"</s>\",\n",
    "    pad_token=\"<pad>\"\n",
    ")\n",
    "\n",
    "wrapped_tokenizer.save_pretrained('how2sign/how2sign-bpe25000-tokenizer-uncased')"
   ]
  },
  {
   "cell_type": "code",
   "execution_count": 2,
   "metadata": {},
   "outputs": [],
   "source": [
    "from transformers import AutoTokenizer\n",
    "tokenizer = AutoTokenizer.from_pretrained('/mnt/workspace/slt_baseline/notebooks/how2sign/how2sign-bpe25000-tokenizer-uncased', local_files_only=True)"
   ]
  },
  {
   "cell_type": "code",
   "execution_count": 3,
   "metadata": {},
   "outputs": [
    {
     "name": "stdout",
     "output_type": "stream",
     "text": [
      "PreTrainedTokenizerFast(name_or_path='/mnt/workspace/slt_baseline/notebooks/how2sign/how2sign-bpe25000-tokenizer-uncased', vocab_size=23136, model_max_len=1024, is_fast=True, padding_side='right', truncation_side='right', special_tokens={'bos_token': '<s>', 'eos_token': '</s>', 'pad_token': '<pad>'})\n"
     ]
    }
   ],
   "source": [
    "print(tokenizer) # 23136"
   ]
  },
  {
   "cell_type": "code",
   "execution_count": 6,
   "metadata": {},
   "outputs": [
    {
     "data": {
      "application/vnd.jupyter.widget-view+json": {
       "model_id": "560ac4af5d364acbbf688953c5cb33ef",
       "version_major": 2,
       "version_minor": 0
      },
      "text/plain": [
       "  0%|          | 0/96998 [00:00<?, ?it/s]"
      ]
     },
     "metadata": {},
     "output_type": "display_data"
    },
    {
     "name": "stdout",
     "output_type": "stream",
     "text": [
      "/mnt/workspace/OpenASL/mmpose/969xm4nuwv4-00:11:48.173-00:11:49.576.pkl\n",
      "/mnt/workspace/OpenASL/mmpose/AFnaBCqKXjY-00:03:13.126-00:03:14.527.pkl\n",
      "/mnt/workspace/OpenASL/mmpose/AbevUmFjcsM-00:00:35.936-00:00:36.000.pkl\n",
      "/mnt/workspace/OpenASL/mmpose/B57Q2xr4Zqs-00:00:19.519-00:00:21.739.pkl\n",
      "/mnt/workspace/OpenASL/mmpose/CnT3ke7yiIY-00:00:14.919-00:00:18.500.pkl\n",
      "/mnt/workspace/OpenASL/mmpose/CnT3ke7yiIY-00:01:42.500-00:01:45.060.pkl\n",
      "/mnt/workspace/OpenASL/mmpose/EslZp7UiTck-00:19:03.241-00:19:04.644.pkl\n",
      "/mnt/workspace/OpenASL/mmpose/FZ0u_44WQck-00:02:03.359-00:02:05.120.pkl\n",
      "/mnt/workspace/OpenASL/mmpose/IE4BQj7R0KA-00:01:12.406-00:01:13.674.pkl\n",
      "/mnt/workspace/OpenASL/mmpose/KNSzYn2wGa4-00:10:43.475-00:10:44.476.pkl\n",
      "/mnt/workspace/OpenASL/mmpose/K_L4B4u6L7Y-00:04:17.958-00:04:19.425.pkl\n",
      "/mnt/workspace/OpenASL/mmpose/M1UpvJATinc-00:13:20.399-00:13:21.134.pkl\n",
      "/mnt/workspace/OpenASL/mmpose/N5aSQrkx1fE-00:06:11.170-00:06:13.807.pkl\n",
      "/mnt/workspace/OpenASL/mmpose/OCljaCDxpb0-00:05:09.480-00:05:57.000.pkl\n",
      "/mnt/workspace/OpenASL/mmpose/Q4ssOiCoEZI-00:05:10.081-00:05:10.242.pkl\n",
      "/mnt/workspace/OpenASL/mmpose/QLsFRIDBIKk-00:16:50.259-00:16:52.094.pkl\n",
      "/mnt/workspace/OpenASL/mmpose/StJtXFsG804-00:01:50.980-00:01:53.459.pkl\n",
      "/mnt/workspace/OpenASL/mmpose/StJtXFsG804-00:01:53.459-00:01:55.379.pkl\n",
      "/mnt/workspace/OpenASL/mmpose/T6YFwhrRwh0-00:12:05.424-00:12:06.491.pkl\n",
      "/mnt/workspace/OpenASL/mmpose/VkLIJDtQYQw-00:00:36.619-00:00:41.899.pkl\n",
      "/mnt/workspace/OpenASL/mmpose/VyA5mkhCzRA-00:01:55.614-00:02:19.604.pkl\n",
      "/mnt/workspace/OpenASL/mmpose/VyA5mkhCzRA-00:02:19.604-00:02:22.241.pkl\n",
      "/mnt/workspace/OpenASL/mmpose/VyA5mkhCzRA-00:02:22.241-00:02:25.245.pkl\n",
      "/mnt/workspace/OpenASL/mmpose/VyA5mkhCzRA-00:02:26.711-00:02:28.381.pkl\n",
      "/mnt/workspace/OpenASL/mmpose/VyA5mkhCzRA-00:02:28.381-00:02:30.149.pkl\n",
      "/mnt/workspace/OpenASL/mmpose/VyA5mkhCzRA-00:02:30.149-00:02:31.617.pkl\n",
      "/mnt/workspace/OpenASL/mmpose/VyA5mkhCzRA-00:02:32.084-00:02:56.092.pkl\n",
      "/mnt/workspace/OpenASL/mmpose/VyA5mkhCzRA-00:02:56.092-00:02:59.611.pkl\n",
      "/mnt/workspace/OpenASL/mmpose/VyA5mkhCzRA-00:02:59.610-00:03:00.512.pkl\n",
      "/mnt/workspace/OpenASL/mmpose/VyA5mkhCzRA-00:03:00.512-00:03:05.751.pkl\n",
      "/mnt/workspace/OpenASL/mmpose/VyA5mkhCzRA-00:03:05.751-00:03:07.520.pkl\n",
      "/mnt/workspace/OpenASL/mmpose/VyA5mkhCzRA-00:03:07.520-00:03:08.192.pkl\n",
      "/mnt/workspace/OpenASL/mmpose/VyA5mkhCzRA-00:03:08.192-00:03:33.545.pkl\n",
      "/mnt/workspace/OpenASL/mmpose/VyA5mkhCzRA-00:03:36.115-00:03:40.453.pkl\n",
      "/mnt/workspace/OpenASL/mmpose/VyA5mkhCzRA-00:03:33.545-00:03:36.115.pkl\n",
      "/mnt/workspace/OpenASL/mmpose/VyA5mkhCzRA-00:03:40.652-00:03:42.320.pkl\n",
      "/mnt/workspace/OpenASL/mmpose/VyA5mkhCzRA-00:03:42.320-00:03:43.322.pkl\n",
      "/mnt/workspace/OpenASL/mmpose/VyA5mkhCzRA-00:03:43.322-00:03:45.557.pkl\n",
      "/mnt/workspace/OpenASL/mmpose/W-tmsxUXnnE-00:03:38.818-00:03:40.820.pkl\n",
      "/mnt/workspace/OpenASL/mmpose/_BX-rijDC10-00:00:00.340-00:00:01.280.pkl\n",
      "/mnt/workspace/OpenASL/mmpose/_BX-rijDC10-00:00:01.280-00:00:02.799.pkl\n",
      "/mnt/workspace/OpenASL/mmpose/_BX-rijDC10-00:00:02.799-00:00:03.439.pkl\n",
      "/mnt/workspace/OpenASL/mmpose/b7hLKDoI6mE-00:10:45.879-00:10:46.879.pkl\n",
      "/mnt/workspace/OpenASL/mmpose/dIrGN8SfUmc-00:06:35.362-00:06:37.363.pkl\n",
      "/mnt/workspace/OpenASL/mmpose/dZQp7OeNINo-00:04:55.661-00:04:58.064.pkl\n",
      "/mnt/workspace/OpenASL/mmpose/g0_rpTr4a04-00:05:45.211-00:05:46.278.pkl\n",
      "/mnt/workspace/OpenASL/mmpose/hjzOb4_gGLc-00:14:22.327-00:14:23.729.pkl\n",
      "/mnt/workspace/OpenASL/mmpose/hvsIMRUhF3g-00:08:01.880-00:08:02.716.pkl\n",
      "/mnt/workspace/OpenASL/mmpose/iinVA9KHGpg-00:02:41.360-00:02:44.330.pkl\n",
      "/mnt/workspace/OpenASL/mmpose/jsOSzFyx8RA-00:14:39.917-00:14:41.292.pkl\n",
      "/mnt/workspace/OpenASL/mmpose/n5524md29E8-00:13:17.330-00:13:18.331.pkl\n",
      "/mnt/workspace/OpenASL/mmpose/rXL9ff90JCU-00:10:11.510-00:10:12.511.pkl\n",
      "/mnt/workspace/OpenASL/mmpose/uCs7pvg02dE-00:07:21.040-00:07:23.175.pkl\n",
      "/mnt/workspace/OpenASL/mmpose/ut75i-iNguc-00:01:11.103-00:01:12.706.pkl\n",
      "/mnt/workspace/OpenASL/mmpose/vjI6vJxet_M-00:07:18.471-00:07:19.906.pkl\n",
      "/mnt/workspace/OpenASL/mmpose/xMKtEOWjKlI-00:10:32.698-00:10:34.100.pkl\n",
      "/mnt/workspace/OpenASL/mmpose/ypsSYB5vDxY-00:02:47.756-00:02:48.860.pkl\n",
      "/mnt/workspace/OpenASL/mmpose/zsX7rrJK2Ho-00:05:13.779-00:05:15.048.pkl\n"
     ]
    }
   ],
   "source": [
    "import os\n",
    "import seaborn as sea\n",
    "import numpy as np\n",
    "import pickle as pkl\n",
    "import torch\n",
    "from tqdm.notebook import tqdm\n",
    "from tqdm.contrib.concurrent import thread_map\n",
    "pose_path = '/mnt/workspace/OpenASL/mmpose'\n",
    "\n",
    "filenames = os.listdir(pose_path)\n",
    "\n",
    "def read_length(name):\n",
    "    pose_path = '/mnt/workspace/OpenASL/mmpose'\n",
    "    full_path = os.path.join(pose_path, name)\n",
    "    if os.path.getsize(full_path) > 0:\n",
    "        with open(full_path, 'rb') as f:\n",
    "            content = pkl.load(f)\n",
    "        return len(content)\n",
    "    else:\n",
    "        print(full_path)\n",
    "        return 0\n",
    "        \n",
    "\n",
    "\n",
    "sample_length = thread_map(read_length, filenames, max_workers=24)\n"
   ]
  },
  {
   "cell_type": "code",
   "execution_count": 8,
   "metadata": {},
   "outputs": [],
   "source": [
    "valid_length = [x for x in sample_length if x != 0]"
   ]
  },
  {
   "cell_type": "code",
   "execution_count": 9,
   "metadata": {},
   "outputs": [
    {
     "data": {
      "text/plain": [
       "<AxesSubplot:ylabel='Count'>"
      ]
     },
     "execution_count": 9,
     "metadata": {},
     "output_type": "execute_result"
    },
    {
     "data": {
      "image/png": "[encoded data removed]",
      "text/plain": [
       "<Figure size 432x288 with 1 Axes>"
      ]
     },
     "metadata": {
      "needs_background": "light"
     },
     "output_type": "display_data"
    }
   ],
   "source": [
    "sea.histplot(valid_length)"
   ]
  },
  {
   "cell_type": "code",
   "execution_count": 10,
   "metadata": {},
   "outputs": [
    {
     "data": {
      "text/plain": [
       "239.3045698370126"
      ]
     },
     "execution_count": 10,
     "metadata": {},
     "output_type": "execute_result"
    }
   ],
   "source": [
    "np.mean(valid_length)"
   ]
  },
  {
   "cell_type": "code",
   "execution_count": 12,
   "metadata": {},
   "outputs": [
    {
     "data": {
      "text/plain": [
       "7548"
      ]
     },
     "execution_count": 12,
     "metadata": {},
     "output_type": "execute_result"
    }
   ],
   "source": [
    "(np.array(valid_length) > 512).sum()"
   ]
  },
  {
   "cell_type": "code",
   "execution_count": 12,
   "metadata": {},
   "outputs": [],
   "source": [
    "from transformers import AutoTokenizer\n",
    "tokenizer = AutoTokenizer.from_pretrained('/mnt/workspace/slt_baseline/notebooks/openasl-bpe25000-tokenizer-uncased', local_files_only=True)"
   ]
  },
  {
   "cell_type": "code",
   "execution_count": 18,
   "metadata": {},
   "outputs": [
    {
     "data": {
      "text/plain": [
       "'56 65 when i first saw him on tv i was intrigued by his honesty, empathy, and inclusive vision to connect with all americans, regardless of political ideologies.'"
      ]
     },
     "execution_count": 18,
     "metadata": {},
     "output_type": "execute_result"
    }
   ],
   "source": [
    "\n",
    "\n",
    "'56 65 WHEN I FIRST SAW HIM ON TV I WAS INTRIGUED BY HIS HONESTY, EMPATHY, AND INCLUSIVE VISION TO CONNECT WITH ALL AMERICANS, REGARDLESS OF POLITICAL IDEOLOGIES.'.lower()\n"
   ]
  },
  {
   "cell_type": "code",
   "execution_count": 38,
   "metadata": {},
   "outputs": [
    {
     "name": "stdout",
     "output_type": "stream",
     "text": [
      "PreTrainedTokenizerFast(name_or_path='/mnt/workspace/slt_baseline/notebooks/openasl-bpe25000-tokenizer', vocab_size=25000, model_max_len=1024, is_fast=True, padding_side='right', truncation_side='right', special_tokens={'bos_token': '<s>', 'eos_token': '</s>', 'pad_token': '<pad>'})\n"
     ]
    }
   ],
   "source": [
    "print(tokenizer)"
   ]
  },
  {
   "cell_type": "code",
   "execution_count": 5,
   "metadata": {},
   "outputs": [
    {
     "ename": "AttributeError",
     "evalue": "'PreTrainedTokenizerFast' object has no attribute 'normalizer'",
     "output_type": "error",
     "traceback": [
      "\u001b[0;31m---------------------------------------------------------------------------\u001b[0m",
      "\u001b[0;31mAttributeError\u001b[0m                            Traceback (most recent call last)",
      "\u001b[0;32m<ipython-input-5-23d19531c0a8>\u001b[0m in \u001b[0;36m<module>\u001b[0;34m\u001b[0m\n\u001b[0;32m----> 1\u001b[0;31m \u001b[0mtokenizer\u001b[0m\u001b[0;34m.\u001b[0m\u001b[0mnormalizer\u001b[0m\u001b[0;34m\u001b[0m\u001b[0;34m\u001b[0m\u001b[0m\n\u001b[0m",
      "\u001b[0;31mAttributeError\u001b[0m: 'PreTrainedTokenizerFast' object has no attribute 'normalizer'"
     ]
    }
   ],
   "source": [
    "tokenizer.normalizer"
   ]
  },
  {
   "cell_type": "code",
   "execution_count": 16,
   "metadata": {},
   "outputs": [
    {
     "data": {
      "text/plain": [
       "'its also a help for people with prosthetics'"
      ]
     },
     "execution_count": 16,
     "metadata": {},
     "output_type": "execute_result"
    }
   ],
   "source": [
    "ids = tokenizer.encode('IT\\'S ALSO A HELP FOR PEOPLE WITH PROSTHETICS.')\n",
    "tokenizer.decode(ids)"
   ]
  },
  {
   "cell_type": "code",
   "execution_count": 12,
   "metadata": {},
   "outputs": [
    {
     "name": "stdout",
     "output_type": "stream",
     "text": [
      "PreTrainedTokenizerFast(name_or_path='/mnt/workspace/slt_baseline/notebooks/phoe-bpe25000-tokenizer', vocab_size=5530, model_max_len=1024, is_fast=True, padding_side='right', truncation_side='right', special_tokens={'bos_token': '<s>', 'eos_token': '</s>', 'pad_token': '<pad>'})\n"
     ]
    }
   ],
   "source": [
    "print(tokenizer)"
   ]
  },
  {
   "cell_type": "code",
   "execution_count": 17,
   "metadata": {},
   "outputs": [
    {
     "data": {
      "application/vnd.jupyter.widget-view+json": {
       "model_id": "bb832e0f4764464cad15e85af6de4b8f",
       "version_major": 2,
       "version_minor": 0
      },
      "text/plain": [
       "Downloading:   0%|          | 0.00/28.0 [00:00<?, ?B/s]"
      ]
     },
     "metadata": {},
     "output_type": "display_data"
    },
    {
     "data": {
      "application/vnd.jupyter.widget-view+json": {
       "model_id": "c4c47bcd3bab4ec59c97495503401e63",
       "version_major": 2,
       "version_minor": 0
      },
      "text/plain": [
       "Downloading:   0%|          | 0.00/570 [00:00<?, ?B/s]"
      ]
     },
     "metadata": {},
     "output_type": "display_data"
    },
    {
     "data": {
      "application/vnd.jupyter.widget-view+json": {
       "model_id": "e98211b3968f4f2aae8c52bf416cf077",
       "version_major": 2,
       "version_minor": 0
      },
      "text/plain": [
       "Downloading:   0%|          | 0.00/226k [00:00<?, ?B/s]"
      ]
     },
     "metadata": {},
     "output_type": "display_data"
    },
    {
     "data": {
      "application/vnd.jupyter.widget-view+json": {
       "model_id": "85e9f05d156f4a6db4c1ff04e5f8262e",
       "version_major": 2,
       "version_minor": 0
      },
      "text/plain": [
       "Downloading:   0%|          | 0.00/455k [00:00<?, ?B/s]"
      ]
     },
     "metadata": {},
     "output_type": "display_data"
    }
   ],
   "source": [
    "from transformers import AutoTokenizer\n",
    "tokenizer = AutoTokenizer.from_pretrained(\"bert-base-uncased\")"
   ]
  },
  {
   "cell_type": "code",
   "execution_count": 18,
   "metadata": {},
   "outputs": [
    {
     "data": {
      "text/plain": [
       "['at',\n",
       " 'least',\n",
       " '20',\n",
       " 'people',\n",
       " 'were',\n",
       " 'killed',\n",
       " ',',\n",
       " '26',\n",
       " 'others',\n",
       " 'wounded',\n",
       " '.']"
      ]
     },
     "execution_count": 18,
     "metadata": {},
     "output_type": "execute_result"
    }
   ],
   "source": [
    "tokenizer.tokenize('At least 20 people were killed, 26 others wounded.')"
   ]
  },
  {
   "cell_type": "code",
   "execution_count": null,
   "metadata": {},
   "outputs": [],
   "source": []
  }
 ],
 "metadata": {
  "interpreter": {
   "hash": "1a5ee8f268a58a1501ad7aef09cde53105f57cea18e29cd62af7d0e62261f331"
  },
  "kernelspec": {
   "display_name": "Python 3.6.15 ('slt')",
   "language": "python",
   "name": "python3"
  },
  "language_info": {
   "codemirror_mode": {
    "name": "ipython",
    "version": 3
   },
   "file_extension": ".py",
   "mimetype": "text/x-python",
   "name": "python",
   "nbconvert_exporter": "python",
   "pygments_lexer": "ipython3",
   "version": "3.6.15"
  },
  "orig_nbformat": 4
 },
 "nbformat": 4,
 "nbformat_minor": 2
}
